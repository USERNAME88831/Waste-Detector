{
 "cells": [
  {
   "cell_type": "code",
   "execution_count": 1,
   "metadata": {},
   "outputs": [
    {
     "name": "stdout",
     "output_type": "stream",
     "text": [
      "[[1. 0. 0. 0. 0. 0. 0. 0. 0. 0. 0. 0.]]\n"
     ]
    }
   ],
   "source": [
    "import keras.models\n",
    "import numpy as np\n",
    "import matplotlib.pyplot as plt\n",
    "import cv2\n",
    "import os\n",
    "\n",
    "CLASSES = [\"Battery\", \"biological\", \"brown-glass\", \"cardboard\", \"clothes\", \"green-glass\", \"metal\", \"paper\", \"plastic\", \"shoes\", \"trash\", \"white-glass\"]\n",
    "\n",
    "def __GetImage(ImagePath):\n",
    "    try:\n",
    "        Image1 = cv2.imread(os.path.join(ImagePath), cv2.IMREAD_GRAYSCALE)\n",
    "        Image2 = cv2.resize(Image1, (50, 50))\n",
    "        return np.array(Image2).reshape(-1, 50, 50, 1)\n",
    "    except:\n",
    "        print(\"err\")\n",
    "\n",
    "def FindClass(ImgPath):\n",
    "    try:\n",
    "        Img = __GetImage(ImgPath)\n",
    "        model = keras.models.load_model(\"GarbageClassifier.model\")\n",
    "        prediction = model.predict([Img])\n",
    "        print(prediction)\n",
    "    except:\n",
    "        print(\"err\")\n",
    "\n",
    "FindClass(ImgPath=\"ModelCode/garbage_classification/battery/battery1.jpg\")"
   ]
  }
 ],
 "metadata": {
  "interpreter": {
   "hash": "5ed88b253077433b20502baafacb9f8a4c1191ebae624d95eea6777f2f42e542"
  },
  "kernelspec": {
   "display_name": "Python 3.9.7 ('base')",
   "language": "python",
   "name": "python3"
  },
  "language_info": {
   "codemirror_mode": {
    "name": "ipython",
    "version": 3
   },
   "file_extension": ".py",
   "mimetype": "text/x-python",
   "name": "python",
   "nbconvert_exporter": "python",
   "pygments_lexer": "ipython3",
   "version": "3.9.7"
  },
  "orig_nbformat": 4
 },
 "nbformat": 4,
 "nbformat_minor": 2
}
