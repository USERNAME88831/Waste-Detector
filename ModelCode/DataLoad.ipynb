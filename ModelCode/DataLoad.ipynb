{
 "cells": [
  {
   "cell_type": "code",
   "execution_count": 25,
   "metadata": {},
   "outputs": [],
   "source": [
    "import cv2\n",
    "import numpy\n",
    "import matplotlib.pyplot as plt\n",
    "import os\n",
    "\n",
    "GarbageClasses = [\"Battery\", \"biological\", \"brown-glass\", \"cardboard\", \"clothes\", \"green-glass\", \"metal\", \"paper\", \"plastic\", \"shoes\", \"trash\", \"white-glass\"]\n",
    "ImageDirectory = \"garbage_classification\"\n",
    "\n",
    "for GarbageClass in GarbageClasses:\n",
    "    path = os.path.join(ImageDirectory, GarbageClass)\n",
    "    for image in os.listdir(path):\n",
    "        ImageList = cv2.imread(image, cv2.IMREAD_GRAYSCALE)\n",
    "\n",
    "        break\n",
    "    break"
   ]
  },
  {
   "cell_type": "code",
   "execution_count": 26,
   "metadata": {},
   "outputs": [],
   "source": [
    "size = 50"
   ]
  },
  {
   "cell_type": "code",
   "execution_count": 31,
   "metadata": {},
   "outputs": [],
   "source": [
    "GarbageTrainingSet = []\n",
    "\n",
    "def GetTraingSet():\n",
    "    for GarbageClass in GarbageClasses:\n",
    "        path = os.path.join(ImageDirectory, GarbageClass)\n",
    "        ClassPosition = GarbageClasses.index(GarbageClass)\n",
    "        for image in os.listdir(path):\n",
    "            ImageList = cv2.imread(os.path.join(path, image), cv2.IMREAD_GRAYSCALE)\n",
    "            ResizedImage = cv2.resize(ImageList, (size, size))\n",
    "\n",
    "            GarbageTrainingSet.append([ResizedImage, ClassPosition])\n",
    "\n",
    "GetTraingSet()"
   ]
  },
  {
   "cell_type": "code",
   "execution_count": 32,
   "metadata": {},
   "outputs": [],
   "source": [
    "X = []\n",
    "y = []"
   ]
  },
  {
   "cell_type": "code",
   "execution_count": 33,
   "metadata": {},
   "outputs": [],
   "source": [
    "import random\n",
    "random.shuffle(GarbageTrainingSet)"
   ]
  },
  {
   "cell_type": "code",
   "execution_count": 34,
   "metadata": {},
   "outputs": [],
   "source": [
    "for image, position in GarbageTrainingSet:\n",
    "    X.append(image)\n",
    "    y.append(position)\n",
    "\n",
    "X = numpy.array(X).reshape(-1, size, size, 1)"
   ]
  },
  {
   "cell_type": "code",
   "execution_count": 35,
   "metadata": {},
   "outputs": [],
   "source": [
    "import pickle\n",
    "\n",
    "OpenedPickle = open(\"X.pickle\", \"wb\")\n",
    "pickle.dump(X, OpenedPickle)\n",
    "OpenedPickle.close()\n",
    "\n",
    "OpenedPickle = open(\"y.pickle\", \"wb\")\n",
    "pickle.dump(y, OpenedPickle)\n",
    "OpenedPickle.close()"
   ]
  }
 ],
 "metadata": {
  "interpreter": {
   "hash": "5ed88b253077433b20502baafacb9f8a4c1191ebae624d95eea6777f2f42e542"
  },
  "kernelspec": {
   "display_name": "Python 3.9.7 ('base')",
   "language": "python",
   "name": "python3"
  },
  "language_info": {
   "codemirror_mode": {
    "name": "ipython",
    "version": 3
   },
   "file_extension": ".py",
   "mimetype": "text/x-python",
   "name": "python",
   "nbconvert_exporter": "python",
   "pygments_lexer": "ipython3",
   "version": "3.9.7"
  },
  "orig_nbformat": 4
 },
 "nbformat": 4,
 "nbformat_minor": 2
}
